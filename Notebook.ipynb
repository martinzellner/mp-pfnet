{
 "cells": [
  {
   "cell_type": "code",
   "execution_count": 3,
   "metadata": {
    "collapsed": false
   },
   "outputs": [
    {
     "name": "stdout",
     "output_type": "stream",
     "text": [
      "Using matplotlib backend: TkAgg\n",
      "Populating the interactive namespace from numpy and matplotlib\n"
     ]
    },
    {
     "data": {
      "text/plain": [
       "<matplotlib.figure.Figure at 0x1074e4e10>"
      ]
     },
     "metadata": {},
     "output_type": "display_data"
    }
   ],
   "source": [
    "import seaborn\n",
    "\n",
    "%load_ext autoreload\n",
    "%pylab\n",
    "%matplotlib inline\n",
    "from IPython.display import set_matplotlib_formats\n",
    "set_matplotlib_formats('pdf', 'svg')\n",
    "from pylab import rcParams\n",
    "rcParams['figure.figsize'] = 11, 4\n",
    "seaborn.set_style(\"whitegrid\")\n",
    "seaborn.despine()"
   ]
  },
  {
   "cell_type": "code",
   "execution_count": 4,
   "metadata": {
    "collapsed": false
   },
   "outputs": [],
   "source": [
    "from mppfnet.mp_network import MPNetwork\n",
    "from mppfnet.mp_problem import MPProblem\n",
    "import gridopt\n",
    "import pfnet"
   ]
  },
  {
   "cell_type": "code",
   "execution_count": 5,
   "metadata": {
    "collapsed": false
   },
   "outputs": [],
   "source": [
    "mp = MPNetwork()\n",
    "mp.load('./data/case32.art')"
   ]
  },
  {
   "cell_type": "code",
   "execution_count": 6,
   "metadata": {
    "collapsed": false
   },
   "outputs": [],
   "source": [
    "mp.set_prices()\n",
    "\n",
    "# bus voltage angles\n",
    "mp.set_flags(pfnet.OBJ_BUS, pfnet.FLAG_VARS, pfnet.BUS_PROP_NOT_SLACK, pfnet.BUS_VAR_VANG)\n",
    "\n",
    "# slack gens active powers\n",
    "mp.set_flags(pfnet.OBJ_GEN, pfnet.FLAG_VARS, pfnet.GEN_PROP_SLACK,pfnet.GEN_VAR_P)\n",
    "\n",
    "# gens active powers\n",
    "mp.set_flags(pfnet.OBJ_GEN,pfnet.FLAG_BOUNDED,pfnet.GEN_PROP_ANY,pfnet.GEN_VAR_P)\n",
    "\n",
    "p = MPProblem(mp)\n",
    "p.add_function(pfnet.FUNC_TYPE_NETCON_COST, 1.0)\n",
    "p.add_constraint(pfnet.CONSTR_TYPE_LBOUND)  # generator bounds\n",
    "p.add_constraint(pfnet.CONSTR_TYPE_DCPF)  # power flow\n",
    "p.analyze()\n",
    "x = p.get_init_point()\n",
    "p.eval(x)\n",
    "p.construct_problem()"
   ]
  },
  {
   "cell_type": "code",
   "execution_count": 7,
   "metadata": {
    "collapsed": false
   },
   "outputs": [],
   "source": [
    "import numpy as np\n",
    "from optalg.opt_solver import OptSolverIQP, QuadProblem, OptSolverLCCP\n",
    "from scipy.sparse import triu, bmat\n",
    "Hx = p.Hphi + p.Hphi.T - triu(p.Hphi)\n",
    "gx = p.gphi - Hx*x\n",
    "\n",
    "g = gx / mp.base_power\n",
    "H = Hx / mp.base_power\n",
    "A = p.A\n",
    "b = p.b\n",
    "l = p.l\n",
    "u = p.u\n",
    "\n",
    "problem = QuadProblem(H, g, A, b, l, u)\n",
    "solver = OptSolverIQP()\n",
    "solver.set_parameters({'quiet': False, 'tol': 1e-7})\n",
    "problem.show()"
   ]
  },
  {
   "cell_type": "code",
   "execution_count": null,
   "metadata": {
    "collapsed": false
   },
   "outputs": [],
   "source": [
    "H.shape"
   ]
  },
  {
   "cell_type": "code",
   "execution_count": null,
   "metadata": {
    "collapsed": false
   },
   "outputs": [],
   "source": [
    "solver.solve(problem)\n",
    "print(solver.get_status())\n",
    "problem.x"
   ]
  },
  {
   "cell_type": "code",
   "execution_count": null,
   "metadata": {
    "collapsed": false
   },
   "outputs": [],
   "source": [
    "mp.generate_solar_profiles()\n",
    "plot(mp.solar_profile_map[0])"
   ]
  },
  {
   "cell_type": "code",
   "execution_count": null,
   "metadata": {
    "collapsed": false
   },
   "outputs": [],
   "source": [
    "mp.generate_load_profiles()"
   ]
  },
  {
   "cell_type": "code",
   "execution_count": null,
   "metadata": {
    "collapsed": false
   },
   "outputs": [],
   "source": [
    "mp.get_load(1, 1).P"
   ]
  },
  {
   "cell_type": "code",
   "execution_count": null,
   "metadata": {
    "collapsed": false
   },
   "outputs": [],
   "source": [
    "plot(mp.load_profile_map[0])"
   ]
  }
 ],
 "metadata": {
  "kernelspec": {
   "display_name": "Python 3",
   "language": "python",
   "name": "python3"
  },
  "language_info": {
   "codemirror_mode": {
    "name": "ipython",
    "version": 3
   },
   "file_extension": ".py",
   "mimetype": "text/x-python",
   "name": "python",
   "nbconvert_exporter": "python",
   "pygments_lexer": "ipython3",
   "version": "3.5.1"
  }
 },
 "nbformat": 4,
 "nbformat_minor": 0
}
