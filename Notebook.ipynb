{
 "cells": [
  {
   "cell_type": "code",
   "execution_count": 1,
   "metadata": {
    "collapsed": false
   },
   "outputs": [
    {
     "name": "stdout",
     "output_type": "stream",
     "text": [
      "Using matplotlib backend: TkAgg\n",
      "Populating the interactive namespace from numpy and matplotlib\n"
     ]
    },
    {
     "data": {
      "text/plain": [
       "<matplotlib.figure.Figure at 0x10d4a8080>"
      ]
     },
     "metadata": {},
     "output_type": "display_data"
    }
   ],
   "source": [
    "import seaborn\n",
    "\n",
    "%load_ext autoreload\n",
    "%pylab\n",
    "%matplotlib inline\n",
    "from IPython.display import set_matplotlib_formats\n",
    "set_matplotlib_formats('pdf', 'svg')\n",
    "from pylab import rcParams\n",
    "rcParams['figure.figsize'] = 11, 4\n",
    "seaborn.set_style(\"whitegrid\")\n",
    "seaborn.despine()"
   ]
  },
  {
   "cell_type": "code",
   "execution_count": 2,
   "metadata": {
    "collapsed": false
   },
   "outputs": [],
   "source": [
    "from mppfnet.mp_network import MPNetwork\n",
    "from mppfnet.mp_problem import MPProblem\n",
    "import gridopt\n",
    "import pfnet"
   ]
  },
  {
   "cell_type": "code",
   "execution_count": 3,
   "metadata": {
    "collapsed": false
   },
   "outputs": [],
   "source": [
    "mp = MPNetwork()\n",
    "mp.load('./data/case32.art')"
   ]
  },
  {
   "cell_type": "code",
   "execution_count": 4,
   "metadata": {
    "collapsed": false
   },
   "outputs": [],
   "source": [
    "mp.set_prices()\n",
    "\n",
    "p = MPProblem(mp)\n",
    "p.add_function(pfnet.FUNC_TYPE_NETCON_COST, 1.0)\n",
    "p.add_constraint(pfnet.CONSTR_TYPE_DCPF)  # power flow\n",
    "p.add_constraint(pfnet.CONSTR_TYPE_PAR_GEN_P)  # generator participation\n",
    "p.add_constraint(pfnet.CONSTR_TYPE_PAR_GEN_Q)  # generator participation\n",
    "p.analyze()\n",
    "x = p.get_init_point()\n",
    "p.eval(x)\n",
    "p.construct_problem()"
   ]
  },
  {
   "cell_type": "code",
   "execution_count": 9,
   "metadata": {
    "collapsed": false
   },
   "outputs": [
    {
     "name": "stdout",
     "output_type": "stream",
     "text": [
      "(271560, 271560)\n"
     ]
    }
   ],
   "source": [
    "import scipy\n",
    "network_a = scipy.sparse.block_diag([p.problem[i].A for i in range(mp.timesteps)])\n",
    "network_b = np.hstack([p.problem[i].b for i in range(mp.timesteps)])\n",
    "print(network_a.shape)"
   ]
  },
  {
   "cell_type": "code",
   "execution_count": 14,
   "metadata": {
    "collapsed": false
   },
   "outputs": [
    {
     "name": "stdout",
     "output_type": "stream",
     "text": [
      "(271560,)\n",
      "(26280,)\n",
      "(297840,)\n"
     ]
    }
   ],
   "source": [
    "print(network_b.shape)\n",
    "(battery_a, battery_b) = p.construct_battery_constraint_matrices()\n",
    "print(battery_b.shape)\n",
    "b = np.hstack([network_b, battery_b])\n",
    "print(b.shape)\n",
    "\n"
   ]
  },
  {
   "cell_type": "code",
   "execution_count": 5,
   "metadata": {
    "collapsed": false
   },
   "outputs": [],
   "source": [
    "import numpy as np\n",
    "from optalg.opt_solver import OptSolverIQP, QuadProblem, OptSolverLCCP\n",
    "problem = QuadProblem(p.Hphi,p.gphi,p.A,p.b,p.l,p.u)\n",
    "solver = OptSolverIQP()\n",
    "solver.set_parameters({'quiet': False, 'tol': 1e-7})\n",
    "problem.show()"
   ]
  },
  {
   "cell_type": "code",
   "execution_count": null,
   "metadata": {
    "collapsed": false
   },
   "outputs": [
    {
     "name": "stdout",
     "output_type": "stream",
     "text": [
      "\n",
      "Solver: IQP\n",
      "-----------\n",
      "iter    phi      fmax      gmax       cu       cl       s    \n",
      " 0 "
     ]
    }
   ],
   "source": [
    "solver.solve(problem)\n",
    "print(solver.get_status())\n",
    "problem.x"
   ]
  },
  {
   "cell_type": "code",
   "execution_count": null,
   "metadata": {
    "collapsed": false
   },
   "outputs": [],
   "source": [
    "mp.generate_solar_profiles()\n",
    "plot(mp.solar_profile_map[0])"
   ]
  },
  {
   "cell_type": "code",
   "execution_count": null,
   "metadata": {
    "collapsed": false
   },
   "outputs": [],
   "source": [
    "mp.generate_load_profiles()"
   ]
  },
  {
   "cell_type": "code",
   "execution_count": null,
   "metadata": {
    "collapsed": false
   },
   "outputs": [],
   "source": [
    "mp.get_load(1, 1).P"
   ]
  },
  {
   "cell_type": "code",
   "execution_count": null,
   "metadata": {
    "collapsed": false
   },
   "outputs": [],
   "source": [
    "plot(mp.load_profile_map[0])"
   ]
  }
 ],
 "metadata": {
  "kernelspec": {
   "display_name": "Python 3",
   "language": "python",
   "name": "python3"
  },
  "language_info": {
   "codemirror_mode": {
    "name": "ipython",
    "version": 3
   },
   "file_extension": ".py",
   "mimetype": "text/x-python",
   "name": "python",
   "nbconvert_exporter": "python",
   "pygments_lexer": "ipython3",
   "version": "3.5.1"
  }
 },
 "nbformat": 4,
 "nbformat_minor": 0
}
